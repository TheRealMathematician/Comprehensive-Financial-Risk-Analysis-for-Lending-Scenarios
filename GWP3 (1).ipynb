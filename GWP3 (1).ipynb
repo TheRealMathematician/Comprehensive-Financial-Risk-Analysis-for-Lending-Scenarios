{
  "cells": [
    {
      "cell_type": "markdown",
      "metadata": {
        "id": "HELm2S6JHKmF"
      },
      "source": [
        "The following code simulate a house mortgage loaning situation"
      ]
    },
    {
      "cell_type": "code",
      "execution_count": 1,
      "metadata": {
        "colab": {
          "base_uri": "https://localhost:8080/",
          "height": 99,
          "referenced_widgets": [
            "4b123b9b383048efac0fbc48a70030c9",
            "4d44f91408e64cfaa6ae15a87d55b4e6",
            "14d4ca38afff485a87da7d7d3a646390",
            "86cdd360c604470f99cd385f8612eaa9",
            "a039f686d5d14d7283973d09b831d0e0",
            "5696653171a9418eaefc5db4694c93e9",
            "a5e31254965e4ba587c04efd3bfc696a",
            "16309ef4797442179a023987e4db1d06",
            "1e51131952354178a2278b6a0ee374d9",
            "9facdeb68b0a48118e59fe7a5788170c"
          ]
        },
        "id": "u8mhZRbJG3_q",
        "outputId": "cb958269-c6ec-42c1-8bb3-71d0f8193cee"
      },
      "outputs": [
        {
          "data": {
            "application/vnd.jupyter.widget-view+json": {
              "model_id": "1dd904f4db0f4cdcbd0bdd0c9da9eefa",
              "version_major": 2,
              "version_minor": 0
            },
            "text/plain": [
              "interactive(children=(FloatSlider(value=3.5, description='Interest Rate (%):', max=10.0), Dropdown(description…"
            ]
          },
          "metadata": {},
          "output_type": "display_data"
        }
      ],
      "source": [
        "# Import necessary libraries\n",
        "import numpy as np\n",
        "import ipywidgets as widgets\n",
        "from IPython.display import display\n",
        "\n",
        "# Define the loan calculation function\n",
        "def calculate_loan(principal, rate, years):\n",
        "    \"\"\"\n",
        "    Calculate monthly payment for a loan.\n",
        "\n",
        "    Parameters:\n",
        "    - principal: The amount of loan.\n",
        "    - rate: Annual interest rate (as a percentage).\n",
        "    - years: Duration of the loan in years.\n",
        "\n",
        "    Returns:\n",
        "    - monthly_payment: Monthly payment amount.\n",
        "    \"\"\"\n",
        "    # Convert annual rate to monthly and in decimal form\n",
        "    monthly_rate = rate / 12 / 100\n",
        "\n",
        "    # Calculate number of monthly payments\n",
        "    n_payments = years * 12\n",
        "\n",
        "    # Calculate monthly payment using the formula for an annuity\n",
        "    # P = (r*PV) / (1 - (1+r)^-n)\n",
        "    monthly_payment = (monthly_rate * principal) / (1 - np.power((1 + monthly_rate), -n_payments))\n",
        "\n",
        "    return monthly_payment\n",
        "\n",
        "# Set the principal amount for the house loan\n",
        "principal = 500000\n",
        "\n",
        "# Create interactive widgets\n",
        "rate_widget = widgets.FloatSlider(value=3.5, min=0, max=10, step=0.1, description='Interest Rate (%):')\n",
        "years_widget = widgets.Dropdown(options=[15, 30], description='Term (years):')\n",
        "\n",
        "# Display the widgets and the results interactively\n",
        "@widgets.interact(rate=rate_widget, years=years_widget)\n",
        "def display_monthly_payment(rate, years):\n",
        "    monthly_payment = calculate_loan(principal, rate, years)\n",
        "    print(f\"Monthly Payment for {years} years: ${monthly_payment:.2f}\")\n",
        "\n"
      ]
    },
    {
      "cell_type": "code",
      "execution_count": null,
      "metadata": {
        "id": "3GnEd6pDvtMz"
      },
      "outputs": [],
      "source": [
        "The following code simulate a security lending situation"
      ]
    },
    {
      "cell_type": "code",
      "execution_count": null,
      "metadata": {
        "colab": {
          "base_uri": "https://localhost:8080/",
          "height": 99,
          "referenced_widgets": [
            "51ee3e3d7c034a5cac8673630c223a03",
            "ec85d99b80544ba8979873e1f78d6136",
            "b1cd7a5a4bf147dfa40135e8b473993e",
            "1b6e7a5dc54f45808c99d9ff5bd6e389",
            "eb5f3e8307374dcfa0959a3056791af6",
            "2aa993aa97914ac48acf726457fa0076",
            "61f70253f42644bb9cb2f19d53557d77",
            "1f8dcce06325486baefee1eb78a796d1",
            "7ccea95e16574aafb3d2c06e062fc10d",
            "c46a03bac0854020993795ee79685b25"
          ]
        },
        "id": "0aZVJa0GG8K3",
        "outputId": "27e22360-9568-44a6-8107-008719527c69"
      },
      "outputs": [
        {
          "data": {
            "application/vnd.jupyter.widget-view+json": {
              "model_id": "51ee3e3d7c034a5cac8673630c223a03",
              "version_major": 2,
              "version_minor": 0
            },
            "text/plain": [
              "interactive(children=(FloatSlider(value=2.0, description='Borrow Fee Rate (%):', max=10.0), IntSlider(value=30…"
            ]
          },
          "metadata": {},
          "output_type": "display_data"
        }
      ],
      "source": [
        "# Import necessary libraries\n",
        "import numpy as np\n",
        "import ipywidgets as widgets\n",
        "from IPython.display import display\n",
        "\n",
        "# Define the security loan fee calculation function\n",
        "def calculate_loan_fee(security_value, borrow_fee_rate, days):\n",
        "    \"\"\"\n",
        "    Calculate the fee for borrowing securities.\n",
        "\n",
        "    Parameters:\n",
        "    - security_value: The value of the securities being lent out.\n",
        "    - borrow_fee_rate: Annual borrow fee rate (as a percentage).\n",
        "    - days: Duration of the loan in days.\n",
        "\n",
        "    Returns:\n",
        "    - loan_fee: Fee for borrowing the securities.\n",
        "    \"\"\"\n",
        "    # Convert annual borrow fee rate to daily and in decimal form\n",
        "    daily_fee_rate = borrow_fee_rate / 365 / 100\n",
        "\n",
        "    # Calculate loan fee\n",
        "    loan_fee = daily_fee_rate * security_value * days\n",
        "\n",
        "    return loan_fee\n",
        "\n",
        "# Set the value of the securities being lent out\n",
        "security_value = 500000\n",
        "\n",
        "# Create interactive widgets\n",
        "borrow_fee_rate_widget = widgets.FloatSlider(value=2.0, min=0, max=10, step=0.1, description='Borrow Fee Rate (%):')\n",
        "days_widget = widgets.IntSlider(value=30, min=1, max=365, step=1, description='Term (days):')\n",
        "\n",
        "# Display the widgets and the results interactively\n",
        "@widgets.interact(borrow_fee_rate=borrow_fee_rate_widget, days=days_widget)\n",
        "def display_loan_fee(borrow_fee_rate, days):\n",
        "    loan_fee = calculate_loan_fee(security_value, borrow_fee_rate, days)\n",
        "    print(f\"Loan Fee for {days} days: ${loan_fee:.2f}\")\n"
      ]
    },
    {
      "cell_type": "markdown",
      "metadata": {
        "id": "Qpv-5_00wQ_7"
      },
      "source": [
        "Draw workflow diagrams for both"
      ]
    },
    {
      "cell_type": "code",
      "execution_count": null,
      "metadata": {
        "colab": {
          "base_uri": "https://localhost:8080/",
          "height": 364
        },
        "id": "SmSbCaW7wQst",
        "outputId": "b770ee61-55db-4106-bf0b-7205ee78901a"
      },
      "outputs": [
        {
          "data": {
            "image/png": "[encoded data removed]",
            "text/plain": [
              "<IPython.core.display.Image object>"
            ]
          },
          "metadata": {},
          "output_type": "display_data"
        }
      ],
      "source": [
        "from graphviz import Digraph\n",
        "from IPython.display import display, Image\n",
        "\n",
        "def render_inline(dot):\n",
        "    return Image(dot.render(format='png'))\n",
        "\n",
        "def money_lending_workflow():\n",
        "    dot = Digraph('MoneyLendingWorkflow', node_attr={'style': 'filled', 'shape': 'box'})\n",
        "    dot.attr(size='10,5')\n",
        "\n",
        "    dot.node('A', 'Principal Amount', color='lightyellow')\n",
        "    dot.node('B', 'Interest Rate (%)', color='lightyellow')\n",
        "    dot.node('C', 'Term (years)', color='lightyellow')\n",
        "    dot.node('D', 'Calculate Monthly Payment', color='lightblue')\n",
        "    dot.node('E', 'Monthly Payment', color='lightgreen')\n",
        "\n",
        "    dot.edges(['AB', 'AC', 'BD', 'CD', 'DE'])\n",
        "\n",
        "    display(render_inline(dot))\n",
        "\n",
        "money_lending_workflow()\n"
      ]
    },
    {
      "cell_type": "code",
      "execution_count": null,
      "metadata": {
        "colab": {
          "base_uri": "https://localhost:8080/",
          "height": 364
        },
        "id": "SHbTiQ49wYjK",
        "outputId": "f46b492a-5886-474d-b148-1daa85ac6602"
      },
      "outputs": [
        {
          "data": {
            "image/png": "[encoded data removed]",
            "text/plain": [
              "<IPython.core.display.Image object>"
            ]
          },
          "metadata": {},
          "output_type": "display_data"
        }
      ],
      "source": [
        "def security_lending_workflow():\n",
        "    dot = Digraph('SecurityLendingWorkflow', node_attr={'style': 'filled', 'shape': 'box'})\n",
        "    dot.attr(size='10,5')\n",
        "\n",
        "    dot.node('A', 'Security Value', color='lightyellow')\n",
        "    dot.node('B', 'Borrow Fee Rate (%)', color='lightyellow')\n",
        "    dot.node('C', 'Term (days)', color='lightyellow')\n",
        "    dot.node('D', 'Calculate Loan Fee', color='lightblue')\n",
        "    dot.node('E', 'Loan Fee', color='lightgreen')\n",
        "\n",
        "    dot.edges(['AB', 'AC', 'BD', 'CD', 'DE'])\n",
        "\n",
        "    display(render_inline(dot))\n",
        "\n",
        "security_lending_workflow()\n"
      ]
    }
  ],
  "metadata": {
    "colab": {
      "provenance": []
    },
    "kernelspec": {
      "display_name": "Python 3",
      "name": "python3"
    },
    "language_info": {
      "codemirror_mode": {
        "name": "ipython",
        "version": 3
      },
      "file_extension": ".py",
      "mimetype": "text/x-python",
      "name": "python",
      "nbconvert_exporter": "python",
      "pygments_lexer": "ipython3",
      "version": "3.9.13"
    },
    "widgets": {
      "application/vnd.jupyter.widget-state+json": {
        "14d4ca38afff485a87da7d7d3a646390": {
          "model_module": "@jupyter-widgets/controls",
          "model_module_version": "1.5.0",
          "model_name": "DropdownModel",
          "state": {
            "_dom_classes": [],
            "_model_module": "@jupyter-widgets/controls",
            "_model_module_version": "1.5.0",
            "_model_name": "DropdownModel",
            "_options_labels": [
              "15",
              "30"
            ],
            "_view_count": null,
            "_view_module": "@jupyter-widgets/controls",
            "_view_module_version": "1.5.0",
            "_view_name": "DropdownView",
            "description": "Term (years):",
            "description_tooltip": null,
            "disabled": false,
            "index": 0,
            "layout": "IPY_MODEL_16309ef4797442179a023987e4db1d06",
            "style": "IPY_MODEL_1e51131952354178a2278b6a0ee374d9"
          }
        },
        "16309ef4797442179a023987e4db1d06": {
          "model_module": "@jupyter-widgets/base",
          "model_module_version": "1.2.0",
          "model_name": "LayoutModel",
          "state": {
            "_model_module": "@jupyter-widgets/base",
            "_model_module_version": "1.2.0",
            "_model_name": "LayoutModel",
            "_view_count": null,
            "_view_module": "@jupyter-widgets/base",
            "_view_module_version": "1.2.0",
            "_view_name": "LayoutView",
            "align_content": null,
            "align_items": null,
            "align_self": null,
            "border": null,
            "bottom": null,
            "display": null,
            "flex": null,
            "flex_flow": null,
            "grid_area": null,
            "grid_auto_columns": null,
            "grid_auto_flow": null,
            "grid_auto_rows": null,
            "grid_column": null,
            "grid_gap": null,
            "grid_row": null,
            "grid_template_areas": null,
            "grid_template_columns": null,
            "grid_template_rows": null,
            "height": null,
            "justify_content": null,
            "justify_items": null,
            "left": null,
            "margin": null,
            "max_height": null,
            "max_width": null,
            "min_height": null,
            "min_width": null,
            "object_fit": null,
            "object_position": null,
            "order": null,
            "overflow": null,
            "overflow_x": null,
            "overflow_y": null,
            "padding": null,
            "right": null,
            "top": null,
            "visibility": null,
            "width": null
          }
        },
        "1b6e7a5dc54f45808c99d9ff5bd6e389": {
          "model_module": "@jupyter-widgets/output",
          "model_module_version": "1.0.0",
          "model_name": "OutputModel",
          "state": {
            "_dom_classes": [],
            "_model_module": "@jupyter-widgets/output",
            "_model_module_version": "1.0.0",
            "_model_name": "OutputModel",
            "_view_count": null,
            "_view_module": "@jupyter-widgets/output",
            "_view_module_version": "1.0.0",
            "_view_name": "OutputView",
            "layout": "IPY_MODEL_c46a03bac0854020993795ee79685b25",
            "msg_id": "",
            "outputs": [
              {
                "name": "stdout",
                "output_type": "stream",
                "text": [
                  "Loan Fee for 30 days: $821.92\n"
                ]
              }
            ]
          }
        },
        "1e51131952354178a2278b6a0ee374d9": {
          "model_module": "@jupyter-widgets/controls",
          "model_module_version": "1.5.0",
          "model_name": "DescriptionStyleModel",
          "state": {
            "_model_module": "@jupyter-widgets/controls",
            "_model_module_version": "1.5.0",
            "_model_name": "DescriptionStyleModel",
            "_view_count": null,
            "_view_module": "@jupyter-widgets/base",
            "_view_module_version": "1.2.0",
            "_view_name": "StyleView",
            "description_width": ""
          }
        },
        "1f8dcce06325486baefee1eb78a796d1": {
          "model_module": "@jupyter-widgets/base",
          "model_module_version": "1.2.0",
          "model_name": "LayoutModel",
          "state": {
            "_model_module": "@jupyter-widgets/base",
            "_model_module_version": "1.2.0",
            "_model_name": "LayoutModel",
            "_view_count": null,
            "_view_module": "@jupyter-widgets/base",
            "_view_module_version": "1.2.0",
            "_view_name": "LayoutView",
            "align_content": null,
            "align_items": null,
            "align_self": null,
            "border": null,
            "bottom": null,
            "display": null,
            "flex": null,
            "flex_flow": null,
            "grid_area": null,
            "grid_auto_columns": null,
            "grid_auto_flow": null,
            "grid_auto_rows": null,
            "grid_column": null,
            "grid_gap": null,
            "grid_row": null,
            "grid_template_areas": null,
            "grid_template_columns": null,
            "grid_template_rows": null,
            "height": null,
            "justify_content": null,
            "justify_items": null,
            "left": null,
            "margin": null,
            "max_height": null,
            "max_width": null,
            "min_height": null,
            "min_width": null,
            "object_fit": null,
            "object_position": null,
            "order": null,
            "overflow": null,
            "overflow_x": null,
            "overflow_y": null,
            "padding": null,
            "right": null,
            "top": null,
            "visibility": null,
            "width": null
          }
        },
        "2aa993aa97914ac48acf726457fa0076": {
          "model_module": "@jupyter-widgets/base",
          "model_module_version": "1.2.0",
          "model_name": "LayoutModel",
          "state": {
            "_model_module": "@jupyter-widgets/base",
            "_model_module_version": "1.2.0",
            "_model_name": "LayoutModel",
            "_view_count": null,
            "_view_module": "@jupyter-widgets/base",
            "_view_module_version": "1.2.0",
            "_view_name": "LayoutView",
            "align_content": null,
            "align_items": null,
            "align_self": null,
            "border": null,
            "bottom": null,
            "display": null,
            "flex": null,
            "flex_flow": null,
            "grid_area": null,
            "grid_auto_columns": null,
            "grid_auto_flow": null,
            "grid_auto_rows": null,
            "grid_column": null,
            "grid_gap": null,
            "grid_row": null,
            "grid_template_areas": null,
            "grid_template_columns": null,
            "grid_template_rows": null,
            "height": null,
            "justify_content": null,
            "justify_items": null,
            "left": null,
            "margin": null,
            "max_height": null,
            "max_width": null,
            "min_height": null,
            "min_width": null,
            "object_fit": null,
            "object_position": null,
            "order": null,
            "overflow": null,
            "overflow_x": null,
            "overflow_y": null,
            "padding": null,
            "right": null,
            "top": null,
            "visibility": null,
            "width": null
          }
        },
        "4b123b9b383048efac0fbc48a70030c9": {
          "model_module": "@jupyter-widgets/controls",
          "model_module_version": "1.5.0",
          "model_name": "VBoxModel",
          "state": {
            "_dom_classes": [
              "widget-interact"
            ],
            "_model_module": "@jupyter-widgets/controls",
            "_model_module_version": "1.5.0",
            "_model_name": "VBoxModel",
            "_view_count": null,
            "_view_module": "@jupyter-widgets/controls",
            "_view_module_version": "1.5.0",
            "_view_name": "VBoxView",
            "box_style": "",
            "children": [
              "IPY_MODEL_4d44f91408e64cfaa6ae15a87d55b4e6",
              "IPY_MODEL_14d4ca38afff485a87da7d7d3a646390",
              "IPY_MODEL_86cdd360c604470f99cd385f8612eaa9"
            ],
            "layout": "IPY_MODEL_a039f686d5d14d7283973d09b831d0e0"
          }
        },
        "4d44f91408e64cfaa6ae15a87d55b4e6": {
          "model_module": "@jupyter-widgets/controls",
          "model_module_version": "1.5.0",
          "model_name": "FloatSliderModel",
          "state": {
            "_dom_classes": [],
            "_model_module": "@jupyter-widgets/controls",
            "_model_module_version": "1.5.0",
            "_model_name": "FloatSliderModel",
            "_view_count": null,
            "_view_module": "@jupyter-widgets/controls",
            "_view_module_version": "1.5.0",
            "_view_name": "FloatSliderView",
            "continuous_update": true,
            "description": "Interest Rate (%):",
            "description_tooltip": null,
            "disabled": false,
            "layout": "IPY_MODEL_5696653171a9418eaefc5db4694c93e9",
            "max": 10,
            "min": 0,
            "orientation": "horizontal",
            "readout": true,
            "readout_format": ".2f",
            "step": 0.1,
            "style": "IPY_MODEL_a5e31254965e4ba587c04efd3bfc696a",
            "value": 3.5
          }
        },
        "51ee3e3d7c034a5cac8673630c223a03": {
          "model_module": "@jupyter-widgets/controls",
          "model_module_version": "1.5.0",
          "model_name": "VBoxModel",
          "state": {
            "_dom_classes": [
              "widget-interact"
            ],
            "_model_module": "@jupyter-widgets/controls",
            "_model_module_version": "1.5.0",
            "_model_name": "VBoxModel",
            "_view_count": null,
            "_view_module": "@jupyter-widgets/controls",
            "_view_module_version": "1.5.0",
            "_view_name": "VBoxView",
            "box_style": "",
            "children": [
              "IPY_MODEL_ec85d99b80544ba8979873e1f78d6136",
              "IPY_MODEL_b1cd7a5a4bf147dfa40135e8b473993e",
              "IPY_MODEL_1b6e7a5dc54f45808c99d9ff5bd6e389"
            ],
            "layout": "IPY_MODEL_eb5f3e8307374dcfa0959a3056791af6"
          }
        },
        "5696653171a9418eaefc5db4694c93e9": {
          "model_module": "@jupyter-widgets/base",
          "model_module_version": "1.2.0",
          "model_name": "LayoutModel",
          "state": {
            "_model_module": "@jupyter-widgets/base",
            "_model_module_version": "1.2.0",
            "_model_name": "LayoutModel",
            "_view_count": null,
            "_view_module": "@jupyter-widgets/base",
            "_view_module_version": "1.2.0",
            "_view_name": "LayoutView",
            "align_content": null,
            "align_items": null,
            "align_self": null,
            "border": null,
            "bottom": null,
            "display": null,
            "flex": null,
            "flex_flow": null,
            "grid_area": null,
            "grid_auto_columns": null,
            "grid_auto_flow": null,
            "grid_auto_rows": null,
            "grid_column": null,
            "grid_gap": null,
            "grid_row": null,
            "grid_template_areas": null,
            "grid_template_columns": null,
            "grid_template_rows": null,
            "height": null,
            "justify_content": null,
            "justify_items": null,
            "left": null,
            "margin": null,
            "max_height": null,
            "max_width": null,
            "min_height": null,
            "min_width": null,
            "object_fit": null,
            "object_position": null,
            "order": null,
            "overflow": null,
            "overflow_x": null,
            "overflow_y": null,
            "padding": null,
            "right": null,
            "top": null,
            "visibility": null,
            "width": null
          }
        },
        "61f70253f42644bb9cb2f19d53557d77": {
          "model_module": "@jupyter-widgets/controls",
          "model_module_version": "1.5.0",
          "model_name": "SliderStyleModel",
          "state": {
            "_model_module": "@jupyter-widgets/controls",
            "_model_module_version": "1.5.0",
            "_model_name": "SliderStyleModel",
            "_view_count": null,
            "_view_module": "@jupyter-widgets/base",
            "_view_module_version": "1.2.0",
            "_view_name": "StyleView",
            "description_width": "",
            "handle_color": null
          }
        },
        "7ccea95e16574aafb3d2c06e062fc10d": {
          "model_module": "@jupyter-widgets/controls",
          "model_module_version": "1.5.0",
          "model_name": "SliderStyleModel",
          "state": {
            "_model_module": "@jupyter-widgets/controls",
            "_model_module_version": "1.5.0",
            "_model_name": "SliderStyleModel",
            "_view_count": null,
            "_view_module": "@jupyter-widgets/base",
            "_view_module_version": "1.2.0",
            "_view_name": "StyleView",
            "description_width": "",
            "handle_color": null
          }
        },
        "86cdd360c604470f99cd385f8612eaa9": {
          "model_module": "@jupyter-widgets/output",
          "model_module_version": "1.0.0",
          "model_name": "OutputModel",
          "state": {
            "_dom_classes": [],
            "_model_module": "@jupyter-widgets/output",
            "_model_module_version": "1.0.0",
            "_model_name": "OutputModel",
            "_view_count": null,
            "_view_module": "@jupyter-widgets/output",
            "_view_module_version": "1.0.0",
            "_view_name": "OutputView",
            "layout": "IPY_MODEL_9facdeb68b0a48118e59fe7a5788170c",
            "msg_id": "",
            "outputs": [
              {
                "name": "stdout",
                "output_type": "stream",
                "text": [
                  "Monthly Payment for 15 years: $3574.41\n"
                ]
              }
            ]
          }
        },
        "9facdeb68b0a48118e59fe7a5788170c": {
          "model_module": "@jupyter-widgets/base",
          "model_module_version": "1.2.0",
          "model_name": "LayoutModel",
          "state": {
            "_model_module": "@jupyter-widgets/base",
            "_model_module_version": "1.2.0",
            "_model_name": "LayoutModel",
            "_view_count": null,
            "_view_module": "@jupyter-widgets/base",
            "_view_module_version": "1.2.0",
            "_view_name": "LayoutView",
            "align_content": null,
            "align_items": null,
            "align_self": null,
            "border": null,
            "bottom": null,
            "display": null,
            "flex": null,
            "flex_flow": null,
            "grid_area": null,
            "grid_auto_columns": null,
            "grid_auto_flow": null,
            "grid_auto_rows": null,
            "grid_column": null,
            "grid_gap": null,
            "grid_row": null,
            "grid_template_areas": null,
            "grid_template_columns": null,
            "grid_template_rows": null,
            "height": null,
            "justify_content": null,
            "justify_items": null,
            "left": null,
            "margin": null,
            "max_height": null,
            "max_width": null,
            "min_height": null,
            "min_width": null,
            "object_fit": null,
            "object_position": null,
            "order": null,
            "overflow": null,
            "overflow_x": null,
            "overflow_y": null,
            "padding": null,
            "right": null,
            "top": null,
            "visibility": null,
            "width": null
          }
        },
        "a039f686d5d14d7283973d09b831d0e0": {
          "model_module": "@jupyter-widgets/base",
          "model_module_version": "1.2.0",
          "model_name": "LayoutModel",
          "state": {
            "_model_module": "@jupyter-widgets/base",
            "_model_module_version": "1.2.0",
            "_model_name": "LayoutModel",
            "_view_count": null,
            "_view_module": "@jupyter-widgets/base",
            "_view_module_version": "1.2.0",
            "_view_name": "LayoutView",
            "align_content": null,
            "align_items": null,
            "align_self": null,
            "border": null,
            "bottom": null,
            "display": null,
            "flex": null,
            "flex_flow": null,
            "grid_area": null,
            "grid_auto_columns": null,
            "grid_auto_flow": null,
            "grid_auto_rows": null,
            "grid_column": null,
            "grid_gap": null,
            "grid_row": null,
            "grid_template_areas": null,
            "grid_template_columns": null,
            "grid_template_rows": null,
            "height": null,
            "justify_content": null,
            "justify_items": null,
            "left": null,
            "margin": null,
            "max_height": null,
            "max_width": null,
            "min_height": null,
            "min_width": null,
            "object_fit": null,
            "object_position": null,
            "order": null,
            "overflow": null,
            "overflow_x": null,
            "overflow_y": null,
            "padding": null,
            "right": null,
            "top": null,
            "visibility": null,
            "width": null
          }
        },
        "a5e31254965e4ba587c04efd3bfc696a": {
          "model_module": "@jupyter-widgets/controls",
          "model_module_version": "1.5.0",
          "model_name": "SliderStyleModel",
          "state": {
            "_model_module": "@jupyter-widgets/controls",
            "_model_module_version": "1.5.0",
            "_model_name": "SliderStyleModel",
            "_view_count": null,
            "_view_module": "@jupyter-widgets/base",
            "_view_module_version": "1.2.0",
            "_view_name": "StyleView",
            "description_width": "",
            "handle_color": null
          }
        },
        "b1cd7a5a4bf147dfa40135e8b473993e": {
          "model_module": "@jupyter-widgets/controls",
          "model_module_version": "1.5.0",
          "model_name": "IntSliderModel",
          "state": {
            "_dom_classes": [],
            "_model_module": "@jupyter-widgets/controls",
            "_model_module_version": "1.5.0",
            "_model_name": "IntSliderModel",
            "_view_count": null,
            "_view_module": "@jupyter-widgets/controls",
            "_view_module_version": "1.5.0",
            "_view_name": "IntSliderView",
            "continuous_update": true,
            "description": "Term (days):",
            "description_tooltip": null,
            "disabled": false,
            "layout": "IPY_MODEL_1f8dcce06325486baefee1eb78a796d1",
            "max": 365,
            "min": 1,
            "orientation": "horizontal",
            "readout": true,
            "readout_format": "d",
            "step": 1,
            "style": "IPY_MODEL_7ccea95e16574aafb3d2c06e062fc10d",
            "value": 30
          }
        },
        "c46a03bac0854020993795ee79685b25": {
          "model_module": "@jupyter-widgets/base",
          "model_module_version": "1.2.0",
          "model_name": "LayoutModel",
          "state": {
            "_model_module": "@jupyter-widgets/base",
            "_model_module_version": "1.2.0",
            "_model_name": "LayoutModel",
            "_view_count": null,
            "_view_module": "@jupyter-widgets/base",
            "_view_module_version": "1.2.0",
            "_view_name": "LayoutView",
            "align_content": null,
            "align_items": null,
            "align_self": null,
            "border": null,
            "bottom": null,
            "display": null,
            "flex": null,
            "flex_flow": null,
            "grid_area": null,
            "grid_auto_columns": null,
            "grid_auto_flow": null,
            "grid_auto_rows": null,
            "grid_column": null,
            "grid_gap": null,
            "grid_row": null,
            "grid_template_areas": null,
            "grid_template_columns": null,
            "grid_template_rows": null,
            "height": null,
            "justify_content": null,
            "justify_items": null,
            "left": null,
            "margin": null,
            "max_height": null,
            "max_width": null,
            "min_height": null,
            "min_width": null,
            "object_fit": null,
            "object_position": null,
            "order": null,
            "overflow": null,
            "overflow_x": null,
            "overflow_y": null,
            "padding": null,
            "right": null,
            "top": null,
            "visibility": null,
            "width": null
          }
        },
        "eb5f3e8307374dcfa0959a3056791af6": {
          "model_module": "@jupyter-widgets/base",
          "model_module_version": "1.2.0",
          "model_name": "LayoutModel",
          "state": {
            "_model_module": "@jupyter-widgets/base",
            "_model_module_version": "1.2.0",
            "_model_name": "LayoutModel",
            "_view_count": null,
            "_view_module": "@jupyter-widgets/base",
            "_view_module_version": "1.2.0",
            "_view_name": "LayoutView",
            "align_content": null,
            "align_items": null,
            "align_self": null,
            "border": null,
            "bottom": null,
            "display": null,
            "flex": null,
            "flex_flow": null,
            "grid_area": null,
            "grid_auto_columns": null,
            "grid_auto_flow": null,
            "grid_auto_rows": null,
            "grid_column": null,
            "grid_gap": null,
            "grid_row": null,
            "grid_template_areas": null,
            "grid_template_columns": null,
            "grid_template_rows": null,
            "height": null,
            "justify_content": null,
            "justify_items": null,
            "left": null,
            "margin": null,
            "max_height": null,
            "max_width": null,
            "min_height": null,
            "min_width": null,
            "object_fit": null,
            "object_position": null,
            "order": null,
            "overflow": null,
            "overflow_x": null,
            "overflow_y": null,
            "padding": null,
            "right": null,
            "top": null,
            "visibility": null,
            "width": null
          }
        },
        "ec85d99b80544ba8979873e1f78d6136": {
          "model_module": "@jupyter-widgets/controls",
          "model_module_version": "1.5.0",
          "model_name": "FloatSliderModel",
          "state": {
            "_dom_classes": [],
            "_model_module": "@jupyter-widgets/controls",
            "_model_module_version": "1.5.0",
            "_model_name": "FloatSliderModel",
            "_view_count": null,
            "_view_module": "@jupyter-widgets/controls",
            "_view_module_version": "1.5.0",
            "_view_name": "FloatSliderView",
            "continuous_update": true,
            "description": "Borrow Fee Rate (%):",
            "description_tooltip": null,
            "disabled": false,
            "layout": "IPY_MODEL_2aa993aa97914ac48acf726457fa0076",
            "max": 10,
            "min": 0,
            "orientation": "horizontal",
            "readout": true,
            "readout_format": ".2f",
            "step": 0.1,
            "style": "IPY_MODEL_61f70253f42644bb9cb2f19d53557d77",
            "value": 2
          }
        }
      }
    }
  },
  "nbformat": 4,
  "nbformat_minor": 0
}
